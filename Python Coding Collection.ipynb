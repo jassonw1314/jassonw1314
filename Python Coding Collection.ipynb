{
 "cells": [
  {
   "cell_type": "code",
   "execution_count": null,
   "id": "c244bd26-3e69-4f8f-a7c7-5918b1314091",
   "metadata": {},
   "outputs": [],
   "source": [
    "#生成随机强密码\n",
    "import string\n",
    "import random  # 导入 random 模块\n",
    "\n",
    "def generate_password(length=12):\n",
    "    # 定义可用字符\n",
    "    characters = string.ascii_letters + string.digits + string.punctuation\n",
    "    # 生成随机密码\n",
    "    return ''.join(random.choice(characters) for _ in range(length))\n",
    "\n",
    "# 调用函数生成密码\n",
    "password = generate_password()\n",
    "print(password)"
   ]
  },
  {
   "cell_type": "code",
   "execution_count": null,
   "id": "0d1ae4a5-e381-42c7-a30f-4643914b7581",
   "metadata": {},
   "outputs": [],
   "source": [
    "#查找出现次数最多的元素\n",
    "def most_frequent(list):\n",
    "  return max(set(list), key=list.count)\n",
    "\n",
    "mylist = [1,1,2,3,4,5,6,6,2,2]\n",
    "print(\"出现次数最多的元素是:\", most_frequent(mylist))"
   ]
  },
  {
   "cell_type": "code",
   "execution_count": null,
   "id": "4b774137-57b1-435b-bcaa-1716b29f9dac",
   "metadata": {},
   "outputs": [],
   "source": [
    "#删除重复值\n",
    "list1 = [1,2,3,3,4,'John', 'Ana', 'Mark', 'John']\n",
    "\n",
    "# 方法1\n",
    "def remove_duplicate(list_value):\n",
    "    return list(set(list_value))\n",
    "print(remove_duplicate(list1))\n",
    "\n",
    "# 方法2\n",
    "result = []\n",
    "[result.append(x) for x in list1 if x not in result]\n",
    "print(result)"
   ]
  },
  {
   "cell_type": "code",
   "execution_count": null,
   "id": "77701b61-42a3-4c77-8bd4-7531b192fba0",
   "metadata": {},
   "outputs": [],
   "source": [
    "import pandas as pd\n",
    "# 读取用户提供的文件路径\n",
    "file_path = \"E:\\\\ChromeDownload\\\\Policy.csv\"\n",
    "# 读取文件的前几行来查看文件结构\n",
    "df_preview = pd.read_csv(file_path, nrows=5, on_bad_lines='skip')  # 跳过有问题的行\n",
    "df_info = df_preview.dtypes  # 获取数据类型\n",
    "df_preview, df_info"
   ]
  },
  {
   "cell_type": "code",
   "execution_count": null,
   "id": "070290ce-0403-4c78-b2c3-ebac0d80312b",
   "metadata": {
    "scrolled": true
   },
   "outputs": [],
   "source": [
    "import pandas as pd\n",
    "\n",
    "# 文件路径\n",
    "file_path = \"E:\\\\ChromeDownload\\\\Policy.csv\"\n",
    "\n",
    "# 读取CSV文件\n",
    "df = pd.read_csv(file_path, on_bad_lines='skip')\n",
    "\n",
    "# 获取第二列(Type)的数据并去重\n",
    "unique_types = df['Type'].drop_duplicates()\n",
    "\n",
    "# 输出去重后的数据\n",
    "print(unique_types)\n"
   ]
  },
  {
   "cell_type": "code",
   "execution_count": null,
   "id": "d9c9a19b-b76e-468a-b8d7-cabdd9140fc0",
   "metadata": {},
   "outputs": [],
   "source": [
    "import pandas as pd\n",
    "\n",
    "# 文件路径\n",
    "file_path = \"E:\\\\ChromeDownload\\\\Policy.csv\"\n",
    "\n",
    "# 读取CSV文件\n",
    "df = pd.read_csv(file_path, on_bad_lines='skip')\n",
    "\n",
    "# 查看文件的所有列名\n",
    "print(df.columns)"
   ]
  },
  {
   "cell_type": "code",
   "execution_count": null,
   "id": "4fa96c70-3227-48aa-aa98-d33a2d961997",
   "metadata": {},
   "outputs": [],
   "source": [
    "import pandas as pd\n",
    "# 读取用户提供的文件路径\n",
    "file_path = \"E:\\\\ChromeDownload\\\\RoomTypeAttribute.csv\"\n",
    "# 读取文件的前几行来查看文件结构\n",
    "df_preview = pd.read_csv(file_path, nrows=5, on_bad_lines='skip')  # 跳过有问题的行\n",
    "df_info = df_preview.dtypes  # 获取数据类型\n",
    "df_preview, df_info"
   ]
  },
  {
   "cell_type": "code",
   "execution_count": null,
   "id": "11884aa7-141b-4bef-9a13-0e34c912af42",
   "metadata": {},
   "outputs": [],
   "source": [
    "import base64\n",
    "\n",
    "# 设置待编码的字符串\n",
    "credentials = \"testclient:testclient\"\n",
    "\n",
    "# 将字符串编码为Base64\n",
    "encoded_credentials = base64.b64encode(credentials.encode()).decode()\n",
    "\n",
    "print(encoded_credentials)"
   ]
  },
  {
   "cell_type": "code",
   "execution_count": null,
   "id": "09587872-6bb8-48ed-bfc1-c1ebcc2421bd",
   "metadata": {},
   "outputs": [],
   "source": [
    "import time\n",
    "\n",
    "# 获取当前时间戳\n",
    "current_timestamp = int(time.time())\n",
    "\n",
    "print(\"当前时间戳:\", current_timestamp)"
   ]
  },
  {
   "cell_type": "code",
   "execution_count": null,
   "id": "aa6f021b-5063-444e-892c-112ca4411cd4",
   "metadata": {},
   "outputs": [],
   "source": [
    "import time\n",
    "import datetime\n",
    "\n",
    "# 指定日期\n",
    "date_str = \"2025-01-20 00:00:00\"\n",
    "\n",
    "# 将日期字符串转换为 datetime 对象\n",
    "dt = datetime.datetime.strptime(date_str, \"%Y-%m-%d %H:%M:%S\")\n",
    "\n",
    "# 转换为时间戳\n",
    "timestamp = int(time.mktime(dt.timetuple()))\n",
    "print(\"时间戳:\", timestamp)"
   ]
  },
  {
   "cell_type": "code",
   "execution_count": null,
   "id": "3e9be539-37e6-435e-bc5b-d994d2a37b03",
   "metadata": {},
   "outputs": [],
   "source": [
    "#查找筛选数据\n",
    "import pandas as pd\n",
    "# 读取转换后的 CSV 文件\n",
    "converted_file = \"D:\\\\ChromeDownload\\\\Policy.csv\"\n",
    "df = pd.read_csv(converted_file, delimiter='|', on_bad_lines='skip')\n",
    "# 筛选出 HotelID 等于 1581212 的数据\n",
    "filtered_df = df[df['HotelID'] == 1633088]\n",
    "# 显示筛选结果\n",
    "print(filtered_df)\n",
    "# 保存筛选结果（可选）\n",
    "filtered_output = \"D:\\\\ChromeDownload\\\\HotelID_1633088.csv\"\n",
    "filtered_df.to_csv(filtered_output, index=False)\n",
    "print(f\"筛选结果已保存到 {filtered_output}\")"
   ]
  },
  {
   "cell_type": "code",
   "execution_count": null,
   "id": "a5e778c2-0166-415d-9cc1-1a8a7c8c9eb0",
   "metadata": {},
   "outputs": [],
   "source": []
  }
 ],
 "metadata": {
  "kernelspec": {
   "display_name": "Python 3 (ipykernel)",
   "language": "python",
   "name": "python3"
  },
  "language_info": {
   "codemirror_mode": {
    "name": "ipython",
    "version": 3
   },
   "file_extension": ".py",
   "mimetype": "text/x-python",
   "name": "python",
   "nbconvert_exporter": "python",
   "pygments_lexer": "ipython3",
   "version": "3.13.1"
  }
 },
 "nbformat": 4,
 "nbformat_minor": 5
}
